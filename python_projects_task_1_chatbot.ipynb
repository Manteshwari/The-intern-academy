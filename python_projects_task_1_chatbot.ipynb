{
  "nbformat": 4,
  "nbformat_minor": 0,
  "metadata": {
    "colab": {
      "name": "python projects task 1-chatbot.ipynb",
      "provenance": [],
      "collapsed_sections": [],
      "authorship_tag": "ABX9TyOKMURT/znufwqreO8lSyW5",
      "include_colab_link": true
    },
    "kernelspec": {
      "display_name": "Python 3",
      "name": "python3"
    },
    "language_info": {
      "name": "python"
    }
  },
  "cells": [
    {
      "cell_type": "markdown",
      "metadata": {
        "id": "view-in-github",
        "colab_type": "text"
      },
      "source": [
        "<a href=\"https://colab.research.google.com/github/Manteshwari/the-intern-academy/blob/main/python_projects_task_1_chatbot.ipynb\" target=\"_parent\"><img src=\"https://colab.research.google.com/assets/colab-badge.svg\" alt=\"Open In Colab\"/></a>"
      ]
    },
    {
      "cell_type": "markdown",
      "metadata": {
        "id": "zRw41YJVvp98"
      },
      "source": [
        "#**Name- Manteshwari Lomeshwar pipare**\n",
        "#**Python projects Intern**\n",
        "#**The Intern Academy**\n",
        "#**August21**\n",
        "#**TASK 01**\n",
        "#**1) create a chatbot:**"
      ]
    },
    {
      "cell_type": "markdown",
      "metadata": {
        "id": "YmvL_ccLuXYy"
      },
      "source": [
        "#What is a Chatbot?\n",
        "A chatbot is an AI-based software designed to interact with humans in their natural languages. These chatbots are usually converse via auditory or textual methods, and they can effortlessly mimic human languages to communicate with human beings in a human-like manner."
      ]
    },
    {
      "cell_type": "markdown",
      "metadata": {
        "id": "6-AMk_RprYJJ"
      },
      "source": [
        "#Building a Chatbot using Chatterbot"
      ]
    },
    {
      "cell_type": "markdown",
      "metadata": {
        "id": "KmLg8vDurcsZ"
      },
      "source": [
        "##Installation commmands"
      ]
    },
    {
      "cell_type": "code",
      "metadata": {
        "colab": {
          "base_uri": "https://localhost:8080/"
        },
        "id": "QorveZLhW49z",
        "outputId": "e98882b5-abe6-493b-a02c-791d4a40c8fa"
      },
      "source": [
        "!pip install chatterbot"
      ],
      "execution_count": 290,
      "outputs": [
        {
          "output_type": "stream",
          "text": [
            "Requirement already satisfied: chatterbot in /usr/local/lib/python3.7/dist-packages (1.0.8)\n",
            "Requirement already satisfied: mathparse<0.2,>=0.1 in /usr/local/lib/python3.7/dist-packages (from chatterbot) (0.1.2)\n",
            "Requirement already satisfied: python-dateutil<2.9,>=2.8 in /usr/local/lib/python3.7/dist-packages (from chatterbot) (2.8.2)\n",
            "Requirement already satisfied: pytz in /usr/local/lib/python3.7/dist-packages (from chatterbot) (2018.9)\n",
            "Requirement already satisfied: sqlalchemy<1.4,>=1.3 in /usr/local/lib/python3.7/dist-packages (from chatterbot) (1.3.24)\n",
            "Requirement already satisfied: six>=1.5 in /usr/local/lib/python3.7/dist-packages (from python-dateutil<2.9,>=2.8->chatterbot) (1.15.0)\n"
          ],
          "name": "stdout"
        }
      ]
    },
    {
      "cell_type": "markdown",
      "metadata": {
        "id": "eRyNmRE2roIi"
      },
      "source": [
        "##Let's first import the Chatbot class of the chatterbot module.\n",
        "\n"
      ]
    },
    {
      "cell_type": "code",
      "metadata": {
        "id": "QganTuPwOUIv"
      },
      "source": [
        "from chatterbot import ChatBot\n",
        "from chatterbot.trainers import ListTrainer"
      ],
      "execution_count": 291,
      "outputs": []
    },
    {
      "cell_type": "markdown",
      "metadata": {
        "id": "G1fHOPwDrx1l"
      },
      "source": [
        "##Create Chatbot Instance"
      ]
    },
    {
      "cell_type": "code",
      "metadata": {
        "id": "L4pDswIkOTuH"
      },
      "source": [
        "bot = ChatBot(\n",
        "    'robot',  \n",
        "     logic_adapters=[\n",
        "        'chatterbot.logic.BestMatch',\n",
        "        'chatterbot.logic.TimeLogicAdapter'],\n",
        ")"
      ],
      "execution_count": 292,
      "outputs": []
    },
    {
      "cell_type": "markdown",
      "metadata": {
        "id": "osGZiV_ltnJN"
      },
      "source": [
        "##Training the chatbot\n"
      ]
    },
    {
      "cell_type": "code",
      "metadata": {
        "id": "XxGRg3M8bAqR"
      },
      "source": [
        "trainer = ListTrainer(bot)"
      ],
      "execution_count": 293,
      "outputs": []
    },
    {
      "cell_type": "code",
      "metadata": {
        "colab": {
          "base_uri": "https://localhost:8080/"
        },
        "id": "m9fLfGPea0MR",
        "outputId": "7f5f0fdf-da8c-4645-eb4b-d4cd782866af"
      },
      "source": [
        "  trainer.train(['Hi',\n",
        "    'hello',\n",
        "    'How are you doing',\n",
        "    'good',\n",
        "    'who are you',\n",
        "    'I am chatbot',\n",
        "    'Are you Human',\n",
        "    'No',\n",
        "    'how are you',\n",
        "    'fine',\n",
        "    'what is your name',\n",
        "    'i am chatbot and my name is bot ',\n",
        "    'what are you doing',\n",
        "    'Answering your Question',\n",
        "  \n",
        "  \n",
        "  ])\n"
      ],
      "execution_count": 294,
      "outputs": [
        {
          "output_type": "stream",
          "text": [
            "List Trainer: [####################] 100%\n"
          ],
          "name": "stdout"
        }
      ]
    },
    {
      "cell_type": "markdown",
      "metadata": {
        "id": "6TlFNGTgteaX"
      },
      "source": [
        "##Chatbot Testing"
      ]
    },
    {
      "cell_type": "code",
      "metadata": {
        "colab": {
          "base_uri": "https://localhost:8080/"
        },
        "id": "dzwYnHpRO8nm",
        "outputId": "613b5dc3-46b5-4561-84c7-f0f5edbb3dd0"
      },
      "source": [
        "responses = bot.get_response('who are you?')\n",
        "print(\"Bot Responses:\", responses)"
      ],
      "execution_count": 295,
      "outputs": [
        {
          "output_type": "stream",
          "text": [
            "Bot Responses: I am chatbot\n"
          ],
          "name": "stdout"
        }
      ]
    },
    {
      "cell_type": "markdown",
      "metadata": {
        "id": "8RcQd9gkucQY"
      },
      "source": [
        "##Communicate with the Python Chatbot"
      ]
    },
    {
      "cell_type": "code",
      "metadata": {
        "colab": {
          "base_uri": "https://localhost:8080/"
        },
        "id": "04gF5RAzGiGW",
        "outputId": "d3a37ceb-21b5-4b2d-f161-32561b4eb87c"
      },
      "source": [
        "name=input(\"Enter Your Name: \")\n",
        "print(\"Welcome to the Bot Service! Let me know how can I help you?\")\n",
        "while True:\n",
        "    request=input(name+':')\n",
        "    if request=='Bye' or request =='bye':\n",
        "        print('Bot: Bye')\n",
        "        break\n",
        "    else:\n",
        "        responses=bot.get_response(request)\n",
        "        print('Bot:',responses)"
      ],
      "execution_count": 297,
      "outputs": [
        {
          "output_type": "stream",
          "text": [
            "Enter Your Name: Manteshwari\n",
            "Welcome to the Bot Service! Let me know how can I help you?\n",
            "Manteshwari:hi\n",
            "Bot: Hello\n",
            "Manteshwari:who are you?\n",
            "Bot: I am chatbot\n",
            "Manteshwari:what is your name\n",
            "Bot: i am chatbot and my name is bot\n",
            "Manteshwari:How are you doing?\n",
            "Bot: fine\n",
            "Manteshwari:what are you doing\n",
            "Bot: talking to you\n",
            "Manteshwari:bye\n",
            "Bot: Bye\n"
          ],
          "name": "stdout"
        }
      ]
    }
  ]
}